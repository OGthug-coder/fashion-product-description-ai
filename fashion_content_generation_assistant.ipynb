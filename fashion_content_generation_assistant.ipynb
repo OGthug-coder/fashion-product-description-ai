{
  "nbformat": 4,
  "nbformat_minor": 0,
  "metadata": {
    "colab": {
      "provenance": [],
      "authorship_tag": "ABX9TyPEi2uVZUVs/P8ZNGOnItJa",
      "include_colab_link": true
    },
    "kernelspec": {
      "name": "python3",
      "display_name": "Python 3"
    },
    "language_info": {
      "name": "python"
    },
    "widgets": {
      "application/vnd.jupyter.widget-state+json": {
        "96dd2cab2f8f4ead880ad4c48d121dd8": {
          "model_module": "@jupyter-widgets/controls",
          "model_name": "HBoxModel",
          "model_module_version": "1.5.0",
          "state": {
            "_dom_classes": [],
            "_model_module": "@jupyter-widgets/controls",
            "_model_module_version": "1.5.0",
            "_model_name": "HBoxModel",
            "_view_count": null,
            "_view_module": "@jupyter-widgets/controls",
            "_view_module_version": "1.5.0",
            "_view_name": "HBoxView",
            "box_style": "",
            "children": [
              "IPY_MODEL_b847d750a5f8448fb67e58e550f8771d",
              "IPY_MODEL_40002dbb6a98400e874d758ce1d090cb",
              "IPY_MODEL_f97aa3bc4cc04033b9a71e4d78645892"
            ],
            "layout": "IPY_MODEL_cc6e7cdd79bd4117a5202349ed703b88"
          }
        },
        "b847d750a5f8448fb67e58e550f8771d": {
          "model_module": "@jupyter-widgets/controls",
          "model_name": "HTMLModel",
          "model_module_version": "1.5.0",
          "state": {
            "_dom_classes": [],
            "_model_module": "@jupyter-widgets/controls",
            "_model_module_version": "1.5.0",
            "_model_name": "HTMLModel",
            "_view_count": null,
            "_view_module": "@jupyter-widgets/controls",
            "_view_module_version": "1.5.0",
            "_view_name": "HTMLView",
            "description": "",
            "description_tooltip": null,
            "layout": "IPY_MODEL_6adaf47fb6b44b04841832f037765533",
            "placeholder": "​",
            "style": "IPY_MODEL_65cce5754a6f48c4ae1fbe8ba92d8605",
            "value": "Fetching 1 files: 100%"
          }
        },
        "40002dbb6a98400e874d758ce1d090cb": {
          "model_module": "@jupyter-widgets/controls",
          "model_name": "FloatProgressModel",
          "model_module_version": "1.5.0",
          "state": {
            "_dom_classes": [],
            "_model_module": "@jupyter-widgets/controls",
            "_model_module_version": "1.5.0",
            "_model_name": "FloatProgressModel",
            "_view_count": null,
            "_view_module": "@jupyter-widgets/controls",
            "_view_module_version": "1.5.0",
            "_view_name": "ProgressView",
            "bar_style": "success",
            "description": "",
            "description_tooltip": null,
            "layout": "IPY_MODEL_ba6417641a0c45b4a95889a39beb6dce",
            "max": 1,
            "min": 0,
            "orientation": "horizontal",
            "style": "IPY_MODEL_0ad44571630c4c6897202d519474aecb",
            "value": 1
          }
        },
        "f97aa3bc4cc04033b9a71e4d78645892": {
          "model_module": "@jupyter-widgets/controls",
          "model_name": "HTMLModel",
          "model_module_version": "1.5.0",
          "state": {
            "_dom_classes": [],
            "_model_module": "@jupyter-widgets/controls",
            "_model_module_version": "1.5.0",
            "_model_name": "HTMLModel",
            "_view_count": null,
            "_view_module": "@jupyter-widgets/controls",
            "_view_module_version": "1.5.0",
            "_view_name": "HTMLView",
            "description": "",
            "description_tooltip": null,
            "layout": "IPY_MODEL_045db6aba4804166995e756cde33f144",
            "placeholder": "​",
            "style": "IPY_MODEL_1dc230921d08427ca42615602ef57221",
            "value": " 1/1 [00:00&lt;00:00, 94.48it/s]"
          }
        },
        "cc6e7cdd79bd4117a5202349ed703b88": {
          "model_module": "@jupyter-widgets/base",
          "model_name": "LayoutModel",
          "model_module_version": "1.2.0",
          "state": {
            "_model_module": "@jupyter-widgets/base",
            "_model_module_version": "1.2.0",
            "_model_name": "LayoutModel",
            "_view_count": null,
            "_view_module": "@jupyter-widgets/base",
            "_view_module_version": "1.2.0",
            "_view_name": "LayoutView",
            "align_content": null,
            "align_items": null,
            "align_self": null,
            "border": null,
            "bottom": null,
            "display": null,
            "flex": null,
            "flex_flow": null,
            "grid_area": null,
            "grid_auto_columns": null,
            "grid_auto_flow": null,
            "grid_auto_rows": null,
            "grid_column": null,
            "grid_gap": null,
            "grid_row": null,
            "grid_template_areas": null,
            "grid_template_columns": null,
            "grid_template_rows": null,
            "height": null,
            "justify_content": null,
            "justify_items": null,
            "left": null,
            "margin": null,
            "max_height": null,
            "max_width": null,
            "min_height": null,
            "min_width": null,
            "object_fit": null,
            "object_position": null,
            "order": null,
            "overflow": null,
            "overflow_x": null,
            "overflow_y": null,
            "padding": null,
            "right": null,
            "top": null,
            "visibility": null,
            "width": null
          }
        },
        "6adaf47fb6b44b04841832f037765533": {
          "model_module": "@jupyter-widgets/base",
          "model_name": "LayoutModel",
          "model_module_version": "1.2.0",
          "state": {
            "_model_module": "@jupyter-widgets/base",
            "_model_module_version": "1.2.0",
            "_model_name": "LayoutModel",
            "_view_count": null,
            "_view_module": "@jupyter-widgets/base",
            "_view_module_version": "1.2.0",
            "_view_name": "LayoutView",
            "align_content": null,
            "align_items": null,
            "align_self": null,
            "border": null,
            "bottom": null,
            "display": null,
            "flex": null,
            "flex_flow": null,
            "grid_area": null,
            "grid_auto_columns": null,
            "grid_auto_flow": null,
            "grid_auto_rows": null,
            "grid_column": null,
            "grid_gap": null,
            "grid_row": null,
            "grid_template_areas": null,
            "grid_template_columns": null,
            "grid_template_rows": null,
            "height": null,
            "justify_content": null,
            "justify_items": null,
            "left": null,
            "margin": null,
            "max_height": null,
            "max_width": null,
            "min_height": null,
            "min_width": null,
            "object_fit": null,
            "object_position": null,
            "order": null,
            "overflow": null,
            "overflow_x": null,
            "overflow_y": null,
            "padding": null,
            "right": null,
            "top": null,
            "visibility": null,
            "width": null
          }
        },
        "65cce5754a6f48c4ae1fbe8ba92d8605": {
          "model_module": "@jupyter-widgets/controls",
          "model_name": "DescriptionStyleModel",
          "model_module_version": "1.5.0",
          "state": {
            "_model_module": "@jupyter-widgets/controls",
            "_model_module_version": "1.5.0",
            "_model_name": "DescriptionStyleModel",
            "_view_count": null,
            "_view_module": "@jupyter-widgets/base",
            "_view_module_version": "1.2.0",
            "_view_name": "StyleView",
            "description_width": ""
          }
        },
        "ba6417641a0c45b4a95889a39beb6dce": {
          "model_module": "@jupyter-widgets/base",
          "model_name": "LayoutModel",
          "model_module_version": "1.2.0",
          "state": {
            "_model_module": "@jupyter-widgets/base",
            "_model_module_version": "1.2.0",
            "_model_name": "LayoutModel",
            "_view_count": null,
            "_view_module": "@jupyter-widgets/base",
            "_view_module_version": "1.2.0",
            "_view_name": "LayoutView",
            "align_content": null,
            "align_items": null,
            "align_self": null,
            "border": null,
            "bottom": null,
            "display": null,
            "flex": null,
            "flex_flow": null,
            "grid_area": null,
            "grid_auto_columns": null,
            "grid_auto_flow": null,
            "grid_auto_rows": null,
            "grid_column": null,
            "grid_gap": null,
            "grid_row": null,
            "grid_template_areas": null,
            "grid_template_columns": null,
            "grid_template_rows": null,
            "height": null,
            "justify_content": null,
            "justify_items": null,
            "left": null,
            "margin": null,
            "max_height": null,
            "max_width": null,
            "min_height": null,
            "min_width": null,
            "object_fit": null,
            "object_position": null,
            "order": null,
            "overflow": null,
            "overflow_x": null,
            "overflow_y": null,
            "padding": null,
            "right": null,
            "top": null,
            "visibility": null,
            "width": null
          }
        },
        "0ad44571630c4c6897202d519474aecb": {
          "model_module": "@jupyter-widgets/controls",
          "model_name": "ProgressStyleModel",
          "model_module_version": "1.5.0",
          "state": {
            "_model_module": "@jupyter-widgets/controls",
            "_model_module_version": "1.5.0",
            "_model_name": "ProgressStyleModel",
            "_view_count": null,
            "_view_module": "@jupyter-widgets/base",
            "_view_module_version": "1.2.0",
            "_view_name": "StyleView",
            "bar_color": null,
            "description_width": ""
          }
        },
        "045db6aba4804166995e756cde33f144": {
          "model_module": "@jupyter-widgets/base",
          "model_name": "LayoutModel",
          "model_module_version": "1.2.0",
          "state": {
            "_model_module": "@jupyter-widgets/base",
            "_model_module_version": "1.2.0",
            "_model_name": "LayoutModel",
            "_view_count": null,
            "_view_module": "@jupyter-widgets/base",
            "_view_module_version": "1.2.0",
            "_view_name": "LayoutView",
            "align_content": null,
            "align_items": null,
            "align_self": null,
            "border": null,
            "bottom": null,
            "display": null,
            "flex": null,
            "flex_flow": null,
            "grid_area": null,
            "grid_auto_columns": null,
            "grid_auto_flow": null,
            "grid_auto_rows": null,
            "grid_column": null,
            "grid_gap": null,
            "grid_row": null,
            "grid_template_areas": null,
            "grid_template_columns": null,
            "grid_template_rows": null,
            "height": null,
            "justify_content": null,
            "justify_items": null,
            "left": null,
            "margin": null,
            "max_height": null,
            "max_width": null,
            "min_height": null,
            "min_width": null,
            "object_fit": null,
            "object_position": null,
            "order": null,
            "overflow": null,
            "overflow_x": null,
            "overflow_y": null,
            "padding": null,
            "right": null,
            "top": null,
            "visibility": null,
            "width": null
          }
        },
        "1dc230921d08427ca42615602ef57221": {
          "model_module": "@jupyter-widgets/controls",
          "model_name": "DescriptionStyleModel",
          "model_module_version": "1.5.0",
          "state": {
            "_model_module": "@jupyter-widgets/controls",
            "_model_module_version": "1.5.0",
            "_model_name": "DescriptionStyleModel",
            "_view_count": null,
            "_view_module": "@jupyter-widgets/base",
            "_view_module_version": "1.2.0",
            "_view_name": "StyleView",
            "description_width": ""
          }
        }
      }
    }
  },
  "cells": [
    {
      "cell_type": "markdown",
      "metadata": {
        "id": "view-in-github",
        "colab_type": "text"
      },
      "source": [
        "<a href=\"https://colab.research.google.com/github/OGthug-coder/fashion-product-description-ai/blob/main/fashion_content_generation_assistant.ipynb\" target=\"_parent\"><img src=\"https://colab.research.google.com/assets/colab-badge.svg\" alt=\"Open In Colab\"/></a>"
      ]
    },
    {
      "cell_type": "markdown",
      "source": [
        "**RAG-система для генерации описаний fashion-товаров**\n",
        "\n",
        "Этот Colab-ноутбук содержит автоматизированную систему для создания продающих описаний одежды и аксессуаров для маркетплейсов (Ozon, Wildberries, Lamoda).\n",
        "\n",
        "Как это работает\n",
        "Система использует комбинацию искусственного интеллекта и ваших данных:\n",
        "\n",
        "Анализирует изображения товаров с помощью компьютерного зрения\n",
        "\n",
        "Извлекает ключевую информацию из характеристик товара\n",
        "\n",
        "Генерирует готовые к публикации описания с SEO-оптимизацией\n",
        "\n",
        "Что нужно сделать\n",
        "- Создать бесплатный Groq API ключ https://console.groq.com/keys\n",
        "- Загрузите папку с изображениями товаров в папку /content/sample_data/items\n",
        "\n",
        "Запустите все ячейки кода последовательно\n",
        "\n",
        "Система автоматически создаст описания для товаров\n",
        "\n",
        "Результат\n",
        "На выходе вы получите готовые тексты с:\n",
        "\n",
        "продающими формулировками\n",
        "\n",
        "модными характеристиками\n",
        "\n",
        "SEO-хештегами\n",
        "\n",
        "точными описаниями материалов и фасонов"
      ],
      "metadata": {
        "id": "2G_O7iS__Yog"
      }
    },
    {
      "cell_type": "code",
      "source": [
        "# Скачивание зависимостей\n",
        "!pip install --quiet groq langchain langchain-groq sentence-transformers faiss-cpu tiktoken\n",
        "!pip install --quiet groq langchain langchain-groq sentence-transformers faiss-cpu tiktoken"
      ],
      "metadata": {
        "id": "qH9Eeqr7KaIu"
      },
      "execution_count": null,
      "outputs": []
    },
    {
      "cell_type": "code",
      "source": [
        "# Подключение зависимостей\n",
        "import os, getpass\n",
        "from google.colab import userdata\n",
        "from groq import Groq\n",
        "from IPython.display import Markdown"
      ],
      "metadata": {
        "id": "df7UGgOBLZfl"
      },
      "execution_count": null,
      "outputs": []
    },
    {
      "cell_type": "code",
      "source": [
        "# Чтение API ключа к сервису groq, создать ключ тут: https://console.groq.com/keys (через vpn)\n",
        "try:\n",
        "    os.environ['GROQ_API_KEY'] = userdata.get('GROQ_API_KEY')\n",
        "except Exception as e:\n",
        "    os.environ['GROQ_API_KEY'] = getpass.getpass('Введите ваш GROQ_API_KEY (скрыто): ')"
      ],
      "metadata": {
        "id": "uAVpeq4QLpGm"
      },
      "execution_count": null,
      "outputs": []
    },
    {
      "cell_type": "code",
      "source": [
        "# Создание клиента к groq\n",
        "client = Groq(api_key=os.environ['GROQ_API_KEY'])"
      ],
      "metadata": {
        "id": "1lw4Ql2MLswy"
      },
      "execution_count": null,
      "outputs": []
    },
    {
      "cell_type": "code",
      "source": [
        "# функция для отправки сообщений к LLM модели и чтения ответа\n",
        "def groq_chat(prompt, model='meta-llama/llama-4-scout-17b-16e-instruct'):\n",
        "    messages = [{'role': 'user', 'content': prompt}]\n",
        "    resp = client.chat.completions.create(model=model, messages=messages, max_tokens=500, temperature=0.2)\n",
        "    return resp.choices[0].message.content"
      ],
      "metadata": {
        "id": "DgGQ__dPKs5U"
      },
      "execution_count": null,
      "outputs": []
    },
    {
      "cell_type": "code",
      "source": [
        "# Пример работы функции\n",
        "display(Markdown(groq_chat(\"Объясни простыми словами, что такое fashion индустрия\")))"
      ],
      "metadata": {
        "colab": {
          "base_uri": "https://localhost:8080/",
          "height": 302
        },
        "id": "rIw4RL5vLzxA",
        "outputId": "73ee8121-61fa-40e9-c204-2ebba0c88086"
      },
      "execution_count": null,
      "outputs": [
        {
          "output_type": "display_data",
          "data": {
            "text/plain": [
              "<IPython.core.display.Markdown object>"
            ],
            "text/markdown": "**Fashion индустрия** — это огромная и многогранная сфера, которая включает в себя всё, что связано с модой и одеждой. Она объединяет людей, которые создают, производят и продают одежду, аксессуары и другие модные товары.\n\n**Основные направления fashion индустрии:**\n\n* **Дизайн и создание одежды**: дизайнеры создают новые модели одежды, обуви и аксессуаров, учитывая последние модные тенденции и стили.\n* **Производство**: фабрики и мастерские производят одежду и аксессуары в больших масштабах.\n* **Маркетинг и реклама**: компании продвигают свои бренды и продукты через рекламу, социальные сети и другие каналы.\n* **Розничная торговля**: магазины и онлайн-площадки продают модные товары конечным потребителям.\n\n**Fashion индустрия** также включает в себя:\n\n* **Модные показы и мероприятия**: показы мод, фестивали и другие события, где дизайнеры представляют свои новые коллекции.\n* **Модные журналы и блоги**: издания и онлайн-ресурсы, которые освещают последние модные тенденции и новости индустрии.\n* **Инфлюенсеры и блогеры**: люди, которые имеют большое количество подписчиков в социальных сетях и продвигают модные бренды и продукты.\n\nВ целом, **fashion индустрия** — это динамичная и постоянно развивающаяся сфера, которая влияет на то, как мы одеваемся и представляем себя в мире."
          },
          "metadata": {}
        }
      ]
    },
    {
      "cell_type": "code",
      "source": [
        "# Простейший менеджер диалога (подходит для небольших сессий)\n",
        "dialogue = []\n",
        "\n",
        "def add_message(role, text):\n",
        "    dialogue.append({'role': role, 'content': text})\n",
        "\n",
        "def get_reply(user_text):\n",
        "    add_message('user', user_text)\n",
        "    max_messages = 10\n",
        "    history = dialogue[-max_messages:]\n",
        "\n",
        "    # Формируем промпт с историей\n",
        "    prompt_parts = []\n",
        "    for msg in history:\n",
        "        prompt_parts.append(f\"{msg['role']}: {msg['content']}\")\n",
        "    prompt_parts.append(\"assistant:\")\n",
        "\n",
        "    full_prompt = \"\\n\".join(prompt_parts)\n",
        "\n",
        "    # Получаем ответ от модели\n",
        "    response = groq_chat(full_prompt)\n",
        "\n",
        "    # Добавляем ответ в историю\n",
        "    add_message('assistant', response)\n",
        "\n",
        "    return response\n",
        "\n",
        "# Добавляем системный промпт\n",
        "add_message('system', 'Ты — профессиональный копирайтер на маркетплейсе модной одежды. Составь краткое, но яркое описание товара для карточки на Ozon. Опиши товар, его преимущества и ощущения от ношения. Используй информацию из контекста ниже. Не придумывай несуществующих деталей.')"
      ],
      "metadata": {
        "id": "5jiSG6KhMfkQ"
      },
      "execution_count": null,
      "outputs": []
    },
    {
      "cell_type": "code",
      "source": [
        "# Тестируем диалог, для выхода напиши exit\n",
        "msg = None\n",
        "while msg != 'exit':\n",
        "  msg = input('User: ')\n",
        "  print('Assistant:')\n",
        "  display(Markdown(get_reply(msg)))\n",
        "  print('\\n')"
      ],
      "metadata": {
        "colab": {
          "base_uri": "https://localhost:8080/",
          "height": 401
        },
        "id": "lSu03MqAlOvl",
        "outputId": "ea39a0ab-0751-40da-d5a7-345af4a33c61"
      },
      "execution_count": null,
      "outputs": [
        {
          "output_type": "stream",
          "name": "stdout",
          "text": [
            "User: ривет, сгенерируй описание для черного вечернего платья\n",
            "Assistant:\n"
          ]
        },
        {
          "output_type": "display_data",
          "data": {
            "text/plain": [
              "<IPython.core.display.Markdown object>"
            ],
            "text/markdown": "\"Погрузитесь в мир роскоши и элегантности с нашим черным вечерним платьем!\n\nЭто потрясающее платье создано, чтобы сделать вас настоящей королевой вечера. Изготовленное из высококачественных материалов, оно поражает своей красотой и комфортом.\n\nСтройный силуэт, тонкие детали и изящная длина делают это платье идеальным выбором для любого торжественного мероприятия. Наденьте его и почувствуйте себя настоящей звездой!\n\nПреимущества:\n- Высококачественные материалы для комфорта и долговечности\n- Стройный силуэт для подчеркивания вашей фигуры\n- Изящная длина для создания неповторимого образа\n\nПриготовьтесь блистать в этом эффектном черном вечернем платье!\""
          },
          "metadata": {}
        },
        {
          "output_type": "stream",
          "name": "stdout",
          "text": [
            "\n",
            "\n",
            "User: exit\n",
            "Assistant:\n"
          ]
        },
        {
          "output_type": "display_data",
          "data": {
            "text/plain": [
              "<IPython.core.display.Markdown object>"
            ],
            "text/markdown": "Не за что! Если понадобится помощь с другими описаниями или чем-то ещё, обращайся!"
          },
          "metadata": {}
        },
        {
          "output_type": "stream",
          "name": "stdout",
          "text": [
            "\n",
            "\n"
          ]
        }
      ]
    },
    {
      "cell_type": "code",
      "source": [
        "# Далее пробуем создать RAG (Retrieval-Augmented Generation) и подключить его к модели для более точных ответов\n",
        "from sentence_transformers import SentenceTransformer\n",
        "import faiss\n",
        "import numpy as np\n",
        "from langchain_groq import ChatGroq\n",
        "from langchain.prompts import PromptTemplate\n",
        "from langchain.chains import LLMChain\n",
        "\n",
        "# 1. ПОДГОТОВКА БАЗЫ ЗНАНИЙ (Документы для модных товаров)\n",
        "# Это пример. В реальных задачах обычно грузится из документов.\n",
        "docs = [\n",
        "    # Бренды и их ДНК\n",
        "    \"Бренд 'North Star' ориентирован на молодежную аудиториу, сочетает уличный стиль и функциональность. Слоган: 'Вырази свой стиль'.\",\n",
        "    \"Бренд 'La Moda' — это премиальная классика для деловых людей. Акцент на качественные материалы: итальянская шерсть, египетский хлопок.\",\n",
        "    \"Бренд 'EcoWear' использует только экологичные материалы: органический хлопок, переработанный полиэстер, тассел. Важен акцент на устойчивости моды.\",\n",
        "    \"Befree — российский бренд, специализирующийся на производстве мужской и женской одежды, обуви и аксессуаров. Befree следуют глобальным тенденциям и создают коллекции для всех, кто любит молодежную моду — вне зависимости от возраста, размера одежды, внешности, профессии и увлечений.\",\n",
        "\n",
        "    # Описания материалов и их преимуществ\n",
        "    \"Хлопок пима: обладает невероятной мягкостью и долговечностью. Дышащий материал, идеален для базового гардероба и чувствительной кожи.\",\n",
        "    \"Мембранная ткань: технологичная ткань с защитой от ветра и воды. При этом пропускает воздух, обеспечивая комфорт при активном движении. Идеальна для курток и пуховиков.\",\n",
        "    \"Эластан: добавляется в состав ткани для обеспечения растяжимости и эластичности. Обеспечивает идеальную посадку по фигуре и свободу движений.\",\n",
        "\n",
        "    # Стилистические советы и тренды\n",
        "    \"Оверсайз-крой: свободный, немаркий крой, который сейчас в тренде. Свитшоты, рубашки и пиджаки оверсайз можно сочетать с более приталенными низами.\",\n",
        "    \"Сочетание текстур: тренд сезона - сочетать разные фактуры. Например, грубый деним с нежным шелком или кожаный пиджак с воздушным платьем.\",\n",
        "    \"База гардероба: классическая белая рубашка, качественные джинсы с прямым кроем, малое черное платье. Эти вещи должны быть в каждом гардеробе.\",\n",
        "\n",
        "    # Ключевые слова для SEO (Озон, Wildberries)\n",
        "    \"Популярные запросы: джинсы женские, худи оверсайз, платье миди, куртка утепленная, рубашка мужская, кроссовки повседневные.\",\n",
        "    \"Часто ищут по свойствам: безрукавка женская, завышенная талия, приталенный крой, на натуральном меху, с капюшоном.\",\n",
        "    \"Актуальные тренды: вельвет, кордерой, кашкорсе, одежда в стиле авиаторов, винтажные принты, спортивный шик.\",\n",
        "\n",
        "    # Примеры описаний товаров\n",
        "    \"\"\"- Удлиненный женский джемпер свободного кроя из плотной 100% хлопковой ткани толстой вязки\n",
        "       - Круглый вырез горловины в рубчик без воротника. Длинные свободные рукава с широкими эластичными манжетами в рубчик и спущенной линией плеча. Присборенный эластичный нижний край в рубчик. Декоративные рваные элементы\n",
        "       - Рваный джемпер с принтом в романтическом стиле из новой коллекции дополнит любые образы. Сочетай его с любимым низом и создавай дерзкие и стильные аутфиты, в которых тебе будет максимально комфортно в любую погоду. Носи этот рваный вязаный пуловер отдельно или в составе трендовых многослойных образов. Создавай с джемпером с принтом образы в стиле гранж на концерты, рейвы или вечеринки, носи его с леггинсами и высокими ботинками\n",
        "       - Размер на модели: S\"\"\",\n",
        "    \"\"\"- Удлиненная футболка унисекс свободного кроя oversize из дышащей, приятной к телу 100% хлопковой ткани средней плотности\n",
        "       - Круглый вырез горловины. Удлиненные свободные рукава без отворотов со спущенной линией плеча. Прямой нижний край без разрезов и декоративных элементов\n",
        "       - Футболка из коллекции Co:Create HUB, созданная с привлечением креаторов из хаба талантов. Универсальная и суперудобная хлопковая футболка с принтом под любое настроение для занятий спортом, йогой, повседневных луков и просто отдыха дома. Сочетай ее с любимым низом и создавай расслабленные и стильные кэжуал-луки, в которых тебе будет максимально удобно. Носи ее отдельно или используй в качестве основы для трендовых многослойных луков. Стильная свободная унисекс-футболка отлично подойдет как для девушек, так и для парней. Носи ее в расслабленных повседневных образах и с гордостью демонстрируй всем свою уникальность\n",
        "       - Размер на модели: XS/S\n",
        "    \"\"\",\n",
        "    \"\"\"- Женская блузка полуприлегающего кроя из легкой, приятной к телу, гладкой ткани с креповой фактурой\n",
        "       - Классический отложной воротник с застежкой под горло, съемный черный галстук в комплекте. Длинные рукава с широкими манжетами на пуговицах и прямой линией плеча. Застежка на мелкие пуговицы спереди. Прямой спереди, удлиненный и закругленный сзади нижний край\n",
        "       - Однотонная белая рубашка с контрастным черным галстуком в комплекте. Стильная и легкая рубашка с галстуком внесет приятное разнообразие в твой повседневный гардероб на каждый день или для особых случаев. Универсальная и практичная классическая блузка сочетается с низом в любом стиле, от классики до гранжа. Создавай ультратрендовые расслабленные луки в школу, университет или офис. Поиграй с галстуком, оставляя его распущенным, завязывая в свободный узел или широкий бант. Заверши образ удобной обувью и любимыми аксессуарами\n",
        "       - Размер на модели: S\"\"\"\n",
        "]\n",
        "\n"
      ],
      "metadata": {
        "id": "HJugN4aCpUd9"
      },
      "execution_count": null,
      "outputs": []
    },
    {
      "cell_type": "code",
      "source": [
        "# 2. ЭМБЕДДИНГИ И ИНДЕКС, эмбеддинг это как библиотекарь по нашей базе знаний, индекс это инструмент для быстрого поиска информации по базе знаний\n",
        "emb_model = SentenceTransformer('sentence-transformers/paraphrase-multilingual-MiniLM-L12-v2') # Лучше для русского\n",
        "doc_embs = emb_model.encode(docs, convert_to_numpy=True)\n",
        "\n",
        "d = doc_embs.shape[1]\n",
        "index = faiss.IndexFlatL2(d)\n",
        "index.add(doc_embs)\n",
        "\n",
        "def retrieve(query, k=3):\n",
        "    q_emb = emb_model.encode([query], convert_to_numpy=True)\n",
        "    D, I = index.search(q_emb, k=k)\n",
        "    return [docs[i] for i in I[0]]"
      ],
      "metadata": {
        "id": "xLNbFodvprNe"
      },
      "execution_count": null,
      "outputs": []
    },
    {
      "cell_type": "code",
      "source": [
        "from langchain.schema.runnable import RunnableSequence\n",
        "\n",
        "# 3. НАСТРОЙКА LLM И ПРОМПТА\n",
        "llm = ChatGroq(\n",
        "    model=\"meta-llama/llama-4-scout-17b-16e-instruct\",\n",
        "    temperature=0.7  # Немного креативности, но не слишком много\n",
        ")\n",
        "\n",
        "# Ключевые изменения здесь, промпт заточен под маркетплейс.\n",
        "prompt = PromptTemplate(\n",
        "    input_variables=['context', 'product_data'],\n",
        "    template=\"\"\"\n",
        "Ты — профессиональный копирайтер для маркетплейсов Ozon и Wildberries.\n",
        "Используй информацию из контекста ниже и данные о товаре, чтобы составить продающее и SEO-оптимизированное описание.\n",
        "\n",
        "Ориентируйся на следующий пример описания: '- Женская блузка полуприлегающего кроя из легкой, приятной к телу, гладкой ткани с креповой фактурой\n",
        "- Классический отложной воротник с застежкой под горло, съемный черный галстук в комплекте. Длинные рукава с широкими манжетами на пуговицах и прямой линией плеча. Застежка на мелкие пуговицы спереди. Прямой спереди, удлиненный и закругленный сзади нижний край\n",
        "- Однотонная белая рубашка с контрастным черным галстуком в комплекте. Стильная и легкая рубашка с галстуком внесет приятное разнообразие в твой повседневный гардероб на каждый день или для особых случаев. Универсальная и практичная классическая блузка сочетается с низом в любом стиле, от классики до гранжа. Создавай ультратрендовые расслабленные луки в школу, университет или офис. Поиграй с галстуком, оставляя его распущенным, завязывая в свободный узел или широкий бант. Заверши образ удобной обувью и любимыми аксессуарами\n",
        "- Размер на модели: S'\n",
        "\n",
        "# КОНТЕКСТ (информация о брендах, материалах и трендах):\n",
        "{context}\n",
        "\n",
        "# ДАННЫЕ ТОВАРА:\n",
        "{product_data}\n",
        "\n",
        "# ИНСТРУКЦИИ:\n",
        "1. Описание должно быть кратким, убедительным и легкочитаемым.\n",
        "2. Подчеркни ключевые преимущества товара и материалы.\n",
        "3. Упомяни актуальные тренды, если они уместны.\n",
        "4. Укажи, для какого стиля и повода подходит вещь.\n",
        "5. В конце добавь 3-5 SEO-хештегов через решетку (например, #джинсыженские).\n",
        "6. Не придумывай несуществующие характеристики товара.\n",
        "\n",
        "ОПИСАНИЕ:\n",
        "\"\"\"\n",
        ")\n",
        "\n",
        "chain = RunnableSequence(first=prompt, last=llm)"
      ],
      "metadata": {
        "id": "Rh0y8A7_p0Dn"
      },
      "execution_count": null,
      "outputs": []
    },
    {
      "cell_type": "code",
      "source": [
        "# 4. ФУНКЦИЯ ДЛЯ ГЕНЕРАЦИИ ОПИСАНИЯ\n",
        "def generate_product_description(product_data_query):\n",
        "    # Извлекаем релевантный контекст для нашего товара\n",
        "    context_chunks = retrieve(product_data_query, k=3)\n",
        "    context = \"\\n\".join(context_chunks)\n",
        "\n",
        "    # Передаем контекст и данные о товаре в LLM\n",
        "    result = chain.invoke({\n",
        "        'context': context,\n",
        "        'product_data': product_data_query\n",
        "    })\n",
        "\n",
        "    # Извлекаем текст\n",
        "    if hasattr(result, 'content'):\n",
        "        return result.content\n",
        "    else:\n",
        "        return str(result)"
      ],
      "metadata": {
        "id": "oh2pwJjvqmKG"
      },
      "execution_count": null,
      "outputs": []
    },
    {
      "cell_type": "code",
      "source": [
        "# 5. ПРИМЕР ИСПОЛЬЗОВАНИЯ\n",
        "# В реальности эти данные могут приходить из CSV или API\n",
        "product_info = \"\"\"\n",
        "Название: Джинсы North Star SLIM FIT\n",
        "Бренд: North Star\n",
        "Категория: Джинсы женские\n",
        "Цвет: Темно-синий\n",
        "Состав: 98% хлопок, 2% эластан\n",
        "Размеры: 40, 42, 44, 46, 48\n",
        "Особенности: Завышенная талия, прямой крой, мама-джинсы, универсальная база гардероба.\n",
        "\"\"\"\n",
        "\n",
        "description = generate_product_description(product_info)\n",
        "print(\"СГЕНЕРИРОВАННОЕ ОПИСАНИЕ:\")\n",
        "print(description)\n",
        "print(\"\\n\" + \"-\"*50 + \"\\n\")\n",
        "\n",
        "# Демонстрация работы поиска\n",
        "print(\"БЫЛИ НАЙДЕНЫ СЛЕДУЮЩИЕ РЕЛЕВАНТНЫЕ ЧАНКИ:\")\n",
        "for i, chunk in enumerate(retrieve(product_info, k=3)):\n",
        "    print(f\"{i+1}. {chunk}\")"
      ],
      "metadata": {
        "colab": {
          "base_uri": "https://localhost:8080/"
        },
        "id": "dMD28T8spA5C",
        "outputId": "e2c4ec2f-0089-497c-feda-2af54783936a"
      },
      "execution_count": null,
      "outputs": [
        {
          "output_type": "stream",
          "name": "stdout",
          "text": [
            "СГЕНЕРИРОВАННОЕ ОПИСАНИЕ:\n",
            "Женские джинсы North Star SLIM FIT темно-синего цвета - это универсальная база гардероба для современных женщин. Изготовленные из высококачественного хлопка (98%) с добавлением эластана (2%), они обеспечивают комфорт и гибкость движений.\n",
            "\n",
            "Завышенная талия и прямой крой создают стильный и современный образ, а slim fit посадка делает их подходящими для различных типов фигур. Эти \"мама-джинсы\" - отличный выбор для повседневного ношения, работы или особых случаев.\n",
            "\n",
            "Сочетайте их с любимой обувью и верхней одеждой, чтобы создать образ в любом стиле - от классического до гранжа. Благодаря своему нейтральному цвету и крою, эти джинсы станут идеальной основой для ваших outfits.\n",
            "\n",
            "Размеры: 40, 42, 44, 46, 48.\n",
            "\n",
            "#джинсыженские #темносиниеджинсы #slimfitджинсы\n",
            "\n",
            "--------------------------------------------------\n",
            "\n",
            "БЫЛИ НАЙДЕНЫ СЛЕДУЮЩИЕ РЕЛЕВАНТНЫЕ ЧАНКИ:\n",
            "1. - Удлиненная футболка унисекс свободного кроя oversize из дышащей, приятной к телу 100% хлопковой ткани средней плотности\n",
            "       - Круглый вырез горловины. Удлиненные свободные рукава без отворотов со спущенной линией плеча. Прямой нижний край без разрезов и декоративных элементов\n",
            "       - Футболка из коллекции Co:Create HUB, созданная с привлечением креаторов из хаба талантов. Универсальная и суперудобная хлопковая футболка с принтом под любое настроение для занятий спортом, йогой, повседневных луков и просто отдыха дома. Сочетай ее с любимым низом и создавай расслабленные и стильные кэжуал-луки, в которых тебе будет максимально удобно. Носи ее отдельно или используй в качестве основы для трендовых многослойных луков. Стильная свободная унисекс-футболка отлично подойдет как для девушек, так и для парней. Носи ее в расслабленных повседневных образах и с гордостью демонстрируй всем свою уникальность \n",
            "       - Размер на модели: XS/S\n",
            "    \n",
            "2. - Удлиненный женский джемпер свободного кроя из плотной 100% хлопковой ткани толстой вязки\n",
            "       - Круглый вырез горловины в рубчик без воротника. Длинные свободные рукава с широкими эластичными манжетами в рубчик и спущенной линией плеча. Присборенный эластичный нижний край в рубчик. Декоративные рваные элементы\n",
            "       - Рваный джемпер с принтом в романтическом стиле из новой коллекции дополнит любые образы. Сочетай его с любимым низом и создавай дерзкие и стильные аутфиты, в которых тебе будет максимально комфортно в любую погоду. Носи этот рваный вязаный пуловер отдельно или в составе трендовых многослойных образов. Создавай с джемпером с принтом образы в стиле гранж на концерты, рейвы или вечеринки, носи его с леггинсами и высокими ботинками \n",
            "       - Размер на модели: S\n",
            "3. Оверсайз-крой: свободный, немаркий крой, который сейчас в тренде. Свитшоты, рубашки и пиджаки оверсайз можно сочетать с более приталенными низами.\n"
          ]
        }
      ]
    },
    {
      "cell_type": "markdown",
      "source": [
        "Далее добавим в нашу модель обработку изображений товаров для более точной генерации описаний"
      ],
      "metadata": {
        "id": "vgJ8BJPX6gJ_"
      }
    },
    {
      "cell_type": "code",
      "source": [
        "# Функция для поиска всех изображений в указанной папке\n",
        "\n",
        "import os\n",
        "import glob\n",
        "\n",
        "def get_image_paths(folder_path):\n",
        "    \"\"\"\n",
        "    Извлекает пути ко всем изображениям в папке и её подпапках.\n",
        "    Использует метод из :cite[7]\n",
        "    \"\"\"\n",
        "    image_extensions = ['.png', '.jpg', '.jpeg', '.bmp', '.tif', '.tiff', '.webp']\n",
        "    image_paths = []\n",
        "\n",
        "    # Рекурсивный обход папок\n",
        "    for root, dirs, files in os.walk(folder_path):\n",
        "        for file in files:\n",
        "            ext = os.path.splitext(file)[-1].lower()\n",
        "            if ext in image_extensions:\n",
        "                full_path = os.path.join(root, file)\n",
        "                image_paths.append(full_path)\n",
        "\n",
        "    # Сортировка для предсказуемости порядка\n",
        "    image_paths.sort()\n",
        "    return image_paths"
      ],
      "metadata": {
        "id": "a2EvjVjRvwU5"
      },
      "execution_count": null,
      "outputs": []
    },
    {
      "cell_type": "code",
      "source": [
        "# Дополняем импорты\n",
        "from transformers import BlipProcessor, BlipForConditionalGeneration\n",
        "import torch\n",
        "from PIL import Image\n",
        "\n",
        "# --- КОНФИГУРАЦИЯ МОДЕЛЕЙ ---\n",
        "# Инициализация модели для описания изображений (один раз при запуске)\n",
        "device = \"cuda\" if torch.cuda.is_available() else \"cpu\"\n",
        "processor = BlipProcessor.from_pretrained(\"Salesforce/blip-image-captioning-base\")\n",
        "model = BlipForConditionalGeneration.from_pretrained(\"Salesforce/blip-image-captioning-base\").to(device)\n",
        "\n",
        "# Функция для генерации описания изображения\n",
        "def describe_image(image_path):\n",
        "    try:\n",
        "        raw_image = Image.open(image_path).convert('RGB')\n",
        "        inputs = processor(raw_image, return_tensors=\"pt\").to(device)\n",
        "        out = model.generate(**inputs, max_length=50)\n",
        "        caption = processor.decode(out[0], skip_special_tokens=True)\n",
        "        return caption\n",
        "    except Exception as e:\n",
        "        print(f\"Ошибка обработки {image_path}: {str(e)}\")\n",
        "        return \"\"\n",
        "\n",
        "# Обрабатывает все изображения в папке и возвращает объединённое описание\n",
        "def process_all_images(folder_path):\n",
        "    image_paths = get_image_paths(folder_path)\n",
        "\n",
        "    all_descriptions = []\n",
        "\n",
        "    for img_path in image_paths:\n",
        "        desc = describe_image(img_path)\n",
        "        if desc:\n",
        "            all_descriptions.append(f\"{desc}\")\n",
        "\n",
        "    # Объединяем все описания в один текст\n",
        "    return \", \".join(all_descriptions)\n",
        "\n",
        "# --- МОДИФИКАЦИЯ ФУНКЦИИ ГЕНЕРАЦИИ ---\n",
        "# Усовершенствованная функция генерации описания.\n",
        "# Если указан путь к папке с изображениями, извлекает из них визуальные признаки.\n",
        "def generate_product_description(product_data_query, image_folder_path=None):\n",
        "\n",
        "    # Базовый контекст из текстовых данных\n",
        "    context_chunks = retrieve(product_data_query, k=3)\n",
        "    context = \"\\n\".join(context_chunks)\n",
        "\n",
        "    # Визуальный контекст из изображений\n",
        "    visual_context = \"\"\n",
        "\n",
        "    if image_folder_path and os.path.exists(image_folder_path):\n",
        "        visual_context = process_all_images(image_folder_path)\n",
        "        # Добавляем визуальный контекст к общему контекст\n",
        "        context = visual_context + \"\\n\" + context\n",
        "\n",
        "    # Передаем контекст и данные о товаре в LLM\n",
        "    result = chain.invoke({\n",
        "        'context': context,\n",
        "        'product_data': product_data_query\n",
        "    })\n",
        "\n",
        "    # Извлекаем текст\n",
        "    if hasattr(result, 'content'):\n",
        "        return result.content\n",
        "    else:\n",
        "        return str(result)"
      ],
      "metadata": {
        "colab": {
          "base_uri": "https://localhost:8080/",
          "height": 86,
          "referenced_widgets": [
            "96dd2cab2f8f4ead880ad4c48d121dd8",
            "b847d750a5f8448fb67e58e550f8771d",
            "40002dbb6a98400e874d758ce1d090cb",
            "f97aa3bc4cc04033b9a71e4d78645892",
            "cc6e7cdd79bd4117a5202349ed703b88",
            "6adaf47fb6b44b04841832f037765533",
            "65cce5754a6f48c4ae1fbe8ba92d8605",
            "ba6417641a0c45b4a95889a39beb6dce",
            "0ad44571630c4c6897202d519474aecb",
            "045db6aba4804166995e756cde33f144",
            "1dc230921d08427ca42615602ef57221"
          ]
        },
        "id": "o-JKFtVGuDkP",
        "outputId": "88939712-c13c-405c-e7c9-8414c78c99c0"
      },
      "execution_count": null,
      "outputs": [
        {
          "output_type": "stream",
          "name": "stderr",
          "text": [
            "Using a slow image processor as `use_fast` is unset and a slow processor was saved with this model. `use_fast=True` will be the default behavior in v4.52, even if the model was saved with a slow processor. This will result in minor differences in outputs. You'll still be able to use a slow processor with `use_fast=False`.\n"
          ]
        },
        {
          "output_type": "display_data",
          "data": {
            "text/plain": [
              "Fetching 1 files:   0%|          | 0/1 [00:00<?, ?it/s]"
            ],
            "application/vnd.jupyter.widget-view+json": {
              "version_major": 2,
              "version_minor": 0,
              "model_id": "96dd2cab2f8f4ead880ad4c48d121dd8"
            }
          },
          "metadata": {}
        }
      ]
    },
    {
      "cell_type": "code",
      "source": [
        "# --- ПРИМЕР ИСПОЛЬЗОВАНИЯ ---\n",
        "product_info = product_info = \"\"\"\n",
        "Название: Джинсы Zarina\n",
        "Бренд: Zarina\n",
        "Категория: Джинсы женские\n",
        "Цвет: Темно-синий\n",
        "Состав: 100% хлопок\n",
        "Размеры:\n",
        "50/164 RUS\n",
        "50/164 RUS\n",
        "52/164 RUS\n",
        "52/164 RUS\n",
        "54/164 RUS\n",
        "54/164 RUS\n",
        "40/170 RUS\n",
        "40/170 RUS\n",
        "42/170 RUS\n",
        "42/170 RUS\n",
        "44/170 RUS\n",
        "44/170 RUS\n",
        "46/170 RUS\n",
        "46/170 RUS\n",
        "48/170 RUS\n",
        "48/170 RUS\n",
        "50/170 RUS\n",
        "50/170 RUS\n",
        "52/170 RUS\n",
        "52/170 RUS\n",
        "54/170 RUS\n",
        "54/170 RUS\n",
        "40/176 RUS\n",
        "40/176 RUS\n",
        "42/176 RUS\n",
        "42/176 RUS\n",
        "44/176 RUS\n",
        "44/176 RUS\n",
        "Особенности: Посадка Высокая.\n",
        "Размер товара на модели 42/170 RUS\n",
        "\"\"\"\n",
        "\n",
        "image_folder = \"/content/sample_data/items/jeans/zarina_blue_jeans\"\n",
        "\n",
        "description = generate_product_description(product_info, image_folder_path=image_folder)\n",
        "print(description)"
      ],
      "metadata": {
        "colab": {
          "base_uri": "https://localhost:8080/"
        },
        "id": "VXSKK4eO0HQe",
        "outputId": "62b4ed67-3f47-4577-8998-8161981e03d4"
      },
      "execution_count": null,
      "outputs": [
        {
          "output_type": "stream",
          "name": "stdout",
          "text": [
            "Джинсы Zarina - это стильные и комфортные джинсы темно-синего цвета из 100% хлопка. Высокая посадка обеспечивает отличную поддержку и делает их идеальными для повседневного ношения.\n",
            "\n",
            "Свободный крой и эластичная ткань позволяют создать расслабленный и стильный образ. Джинсы Zarina подходят для различных стилей и поводов - от casual до streetwear.\n",
            "\n",
            "Носи их с любимой обувью и верхней одеждой, чтобы создать свой уникальный образ.\n",
            "\n",
            "#джинсыженские #темносиниеджинсы #zarinad jeans\n"
          ]
        }
      ]
    },
    {
      "cell_type": "code",
      "source": [
        "# --- ПРИМЕР ИСПОЛЬЗОВАНИЯ ---\n",
        "product_info = product_info = \"\"\"\n",
        "Название: Футболка-бойфренд Берегите птиц\n",
        "Бренд: Берегите птиц\n",
        "Категория: футболка женская\n",
        "Цвет: Красная-красный;бежевый\n",
        "Состав: 95% хлопок, 5% лайкра\n",
        "Размеры: 42-48 RU (one-size)\n",
        "Особенности: Футболка свободного удлиненного силуэта\n",
        "\"\"\"\n",
        "\n",
        "image_folder = \"/content/sample_data/items/shirts/beregite_ptic_shirt\"\n",
        "\n",
        "description = generate_product_description(product_info, image_folder_path=image_folder)\n",
        "print(description)"
      ],
      "metadata": {
        "colab": {
          "base_uri": "https://localhost:8080/"
        },
        "id": "3PYMMPwD2CF5",
        "outputId": "f7ad9f1c-18ff-41f0-ef56-5a0d4ce4f5f0"
      },
      "execution_count": null,
      "outputs": [
        {
          "output_type": "stream",
          "name": "stdout",
          "text": [
            "Футболка-бойфренд Берегите птиц - это стильная и удобная вещь для современных женщин. Изготовлена из высококачественного материала: 95% хлопка и 5% лайкры, что обеспечивает комфорт и свободу движений.\n",
            "\n",
            "Удлиненный свободный силуэт и мягкая ткань делают эту футболку идеальной для повседневного ношения. Модель подходит для создания расслабленных и стильных луков, как для casual-образов, так и для более официальных мероприятий.\n",
            "\n",
            "Благодаря своему универсальному дизайну, эта футболка легко сочетается с различными видами одежды: джинсами, юбками, шортами и т.д. Вы можете носить ее как отдельно, так и в качестве базового слоя для многослойных образов.\n",
            "\n",
            "Размер: 42-48 RU (one-size), что делает ее доступной для широкого круга покупателей.\n",
            "\n",
            "Добавьте эту футболку в свой гардероб и создавайте стильные и комфортные образы каждый день!\n",
            "\n",
            "#футболкиженские #одеждадляженщин #стильнаяодежда\n"
          ]
        }
      ]
    }
  ]
}